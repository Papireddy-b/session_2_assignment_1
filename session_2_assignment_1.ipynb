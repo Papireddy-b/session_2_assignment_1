{
 "cells": [
  {
   "cell_type": "code",
   "execution_count": 1,
   "metadata": {},
   "outputs": [
    {
     "name": "stdout",
     "output_type": "stream",
     "text": [
      "24\n"
     ]
    }
   ],
   "source": [
    "#Write a Python Program to implement your own myreduce() function which works exactly like\n",
    "#Python's built-in function reduce()\n",
    "\n",
    "def main():\n",
    "    def myreduce(function, sequence):\n",
    "        one = sequence[0]\n",
    "        for nt in sequence[1:]:\n",
    "            one = function(one, nt)\n",
    "        return one\n",
    " \n",
    "    l=[1,2,3,4]\n",
    "    r=myreduce(lambda x,y:x*y,l)\n",
    "    print(r)\n",
    "    \n",
    "if __name__=='__main__':main()"
   ]
  },
  {
   "cell_type": "code",
   "execution_count": 2,
   "metadata": {},
   "outputs": [
    {
     "name": "stdout",
     "output_type": "stream",
     "text": [
      "[5, 6, 7, 8]\n"
     ]
    }
   ],
   "source": [
    "#Write a Python program to implement your own myfilter() function which works exactly like\n",
    "#Python's built-in function filter()\n",
    "\n",
    "def main():\n",
    "    def myfilter(function,sequence):\n",
    "        l=list()\n",
    "        for x in sequence:\n",
    "            boo=function(x)\n",
    "            if boo==True:\n",
    "                l.append(x)\n",
    "        return l\n",
    "    \n",
    "    ll=[1,2,3,4,5,6,7,8]\n",
    "    result = myfilter(lambda x: x>4,ll)\n",
    "    \n",
    "    print(result)\n",
    "if __name__=='__main__':main()"
   ]
  },
  {
   "cell_type": "code",
   "execution_count": 3,
   "metadata": {},
   "outputs": [
    {
     "name": "stdout",
     "output_type": "stream",
     "text": [
      "['A', 'C', 'A', 'D', 'G', 'I', 'L', 'D']\n",
      "['x', 'xx', 'xxx', 'xxxx', 'y', 'yy', 'yyy', 'yyyy', 'z', 'zz', 'zzz', 'zzzz']\n",
      "['x', 'y', 'z', 'xx', 'yy', 'zz', 'xxx', 'yyy', 'zzz', 'xxxx', 'yyyy', 'zzzz']\n",
      "[[2], [3], [4], [3], [4], [5], [4], [5], [6]]\n",
      "[[2, 3, 4, 5], [3, 4, 5, 6], [4, 5, 6, 7], [5, 6, 7, 8]]\n",
      "[(1, 1), (2, 1), (3, 1), (1, 2), (2, 2), (3, 2), (1, 3), (2, 3), (3, 3)]\n"
     ]
    }
   ],
   "source": [
    "\"\"\"Implement List comprehensions to produce the following lists.\n",
    "Write List comprehensions to produce the following Lists\n",
    "['A', 'C', 'A', 'D', 'G', 'I', ’L’, ‘ D’]\n",
    "['x', 'xx', 'xxx', 'xxxx', 'y', 'yy', 'yyy', 'yyyy', 'z', 'zz', 'zzz', 'zzzz']\n",
    "['x', 'y', 'z', 'xx', 'yy', 'zz', 'xx', 'yy', 'zz', 'xxxx', 'yyyy', 'zzzz']\n",
    "\n",
    "[[2], [3], [4], [3], [4], [5], [4], [5], [6]]\n",
    "[[2, 3, 4, 5], [3, 4, 5, 6], [4, 5, 6, 7], [5, 6, 7, 8]]\n",
    "[(1, 1), (2, 1), (3, 1), (1, 2), (2, 2), (3, 2), (1, 3), (2, 3), (3, 3)]\"\"\"\n",
    "\n",
    "def main():\n",
    "    l1 = [x for x in \"ACADGILD\"]\n",
    "    print(l1)\n",
    "    l2 = [i*j for i in \"xyz\" for j in range(1,5)]\n",
    "    print(l2)\n",
    "    l3 = [i*j for j in range(1,5) for i in \"xyz\"]\n",
    "    print(l3)\n",
    "    l4 = [[i+j] for j in range(0,3) for i in range(2,5)]\n",
    "    print(l4)\n",
    "    l5 = [[x,x+1,x+2,x+3] for x in range(2,6)]\n",
    "    print(l5)\n",
    "    l6 = [(i,j) for j in range(1,4) for i in range(1,4)]\n",
    "    print(l6)\n",
    "if __name__=='__main__':main() "
   ]
  },
  {
   "cell_type": "code",
   "execution_count": 4,
   "metadata": {},
   "outputs": [
    {
     "name": "stdout",
     "output_type": "stream",
     "text": [
      "enter the list of words(comma seperated)determination,success,failure,practice\n",
      "the longest word is:  \n",
      "determination\n"
     ]
    }
   ],
   "source": [
    "#Implement a function longestWord() that takes a list of words and returns the longest one.\n",
    "\n",
    "def main():\n",
    "    def longestword(l):\n",
    "        length=len(l[0])\n",
    "        word=l[0]\n",
    "        for i in range(1,len(l)):\n",
    "            if length >= len(l[i]):\n",
    "                pass\n",
    "            else:\n",
    "                lenght=len(l[i])\n",
    "                word=l[i]\n",
    "        return word\n",
    "    list_words=input(\"enter the list of words(comma seperated)\")\n",
    "    list_words=list_words.split(\",\")\n",
    "    result=longestword(list_words)\n",
    "    print(\"the longest word is:  \")\n",
    "    print(result)\n",
    "    \n",
    "   \n",
    "if __name__=='__main__':main()"
   ]
  },
  {
   "cell_type": "code",
   "execution_count": 5,
   "metadata": {},
   "outputs": [
    {
     "name": "stdout",
     "output_type": "stream",
     "text": [
      "enter the sides(comma seperated)?  3,4,5\n",
      "area of the triangle 6.0\n"
     ]
    }
   ],
   "source": [
    "\"\"\"Write a Python Program(with class concepts) to find the area of the triangle using the below\n",
    "formula.\n",
    "area = (s*(s-a)*(s-b)*(s-c)) ** 0.5\n",
    "Function to take the length of the sides of triangle from user should be defined in the parent\n",
    "class and function to calculate the area should be defined in subclass.\"\"\"\n",
    "\n",
    "class triangle:\n",
    "    def inputsides(self):\n",
    "        sides=input(\"enter the sides(comma seperated)?  \")\n",
    "        sides=sides.split(\",\")\n",
    "        self.a,self.b,self.c=int(sides[0]),int(sides[1]),int(sides[2])\n",
    "        return self.a,self.b,self.c\n",
    "        \n",
    "class area_triangle(triangle):\n",
    "    def area(self,a,b,c):\n",
    "        s=(a+b+c)/2\n",
    "        return ((s*(s-a)*(s-b)*(s-c))**0.5)\n",
    "    \n",
    "def main():\n",
    "    t = triangle()\n",
    "    at = area_triangle()\n",
    "    a,b,c=t.inputsides()\n",
    "    \n",
    "    result=at.area(a,b,c)\n",
    "    print(\"area of the triangle {}\".format(result))\n",
    "    \n",
    "if __name__=='__main__':main()\n",
    "    \n",
    "        "
   ]
  },
  {
   "cell_type": "code",
   "execution_count": 5,
   "metadata": {},
   "outputs": [
    {
     "name": "stdout",
     "output_type": "stream",
     "text": [
      "enter the list of words( comma seperated)? happy,sad,welcome,acadgild,datamaster,programming\n",
      "enter the value of length? 6\n",
      "the list of words whose lengh is greater than 6 is ['welcome', 'acadgild', 'datamaster', 'programming']\n"
     ]
    }
   ],
   "source": [
    "#Write a function filter_long_words() that takes a list of words and an integer n and returns the list\n",
    "#of words that are longer than n.\n",
    "\n",
    "def main():\n",
    "    \n",
    "    def filter_long_words(list1,n):\n",
    "        list2=[]\n",
    "        for w in list1:\n",
    "            if len(w) > n:\n",
    "                list2.append(w)\n",
    "        return list2\n",
    "\n",
    "    string = input(\"enter the list of words( comma seperated)? \")\n",
    "    l=string.split(\",\")\n",
    "    n=int(input(\"enter the value of length? \"))\n",
    "    ll=filter_long_words(l,n)\n",
    "    print(\"the list of words whose lengh is greater than {} is {}\".format(n,ll))\n",
    "    \n",
    "if __name__=='__main__':main()"
   ]
  },
  {
   "cell_type": "code",
   "execution_count": 6,
   "metadata": {},
   "outputs": [
    {
     "name": "stdout",
     "output_type": "stream",
     "text": [
      "enter the list of words ( comma seperated)? rama,sita,hanuman,food,chiken\n",
      "list of length of words is [4, 4, 7, 4, 6]\n"
     ]
    }
   ],
   "source": [
    "\"\"\"Write a Python program using function concept that maps list of words into a list of integers\n",
    "representing the lengths of the corresponding words.\n",
    "Hint: ​If a list [ ab,cde,erty] is passed on to the python function output should come as [2,3,4]\n",
    "Here 2,3 and 4 are the lengths of the words in the list.\"\"\"\n",
    "\n",
    "def main():\n",
    "    \n",
    "    def word_lengh(list1):\n",
    "        list2=[]\n",
    "        for w in list1:\n",
    "            list2.append(len(w))\n",
    "        return list2\n",
    "    \n",
    "    string = input(\"enter the list of words ( comma seperated)? \")\n",
    "    l = string.split(\",\")\n",
    "    \n",
    "    ll=word_lengh(l)\n",
    "    print(\"list of length of words is {}\".format(ll))\n",
    "    \n",
    "if __name__=='__main__':main()\n",
    "    "
   ]
  },
  {
   "cell_type": "code",
   "execution_count": 8,
   "metadata": {},
   "outputs": [
    {
     "name": "stdout",
     "output_type": "stream",
     "text": [
      "enter single character?  u\n",
      "True\n",
      "enter single character?  t\n",
      "False\n"
     ]
    }
   ],
   "source": [
    "#Write a Python function which takes a character (i.e. a string of length 1) and returns True if it is\n",
    "#a vowel, False otherwise.\n",
    "\n",
    "def main():\n",
    "    \n",
    "    def vowel(ch):\n",
    "        if len(ch) > 1:\n",
    "            print(\"enter the string with lengh 1 (i.e single character)\")\n",
    "            return \n",
    "        else:\n",
    "            if (ch == 'a' or ch == 'A' or ch == 'e' or ch == 'E' or ch == 'i' or\n",
    "                ch == 'I' or ch == 'o' or ch == 'O' or ch == 'u' or ch == 'U'):\n",
    "                return True\n",
    "            else:\n",
    "                return False\n",
    "    ch=input('enter single character?  ')\n",
    "    print(vowel(ch))\n",
    "    ch=input('enter single character?  ')\n",
    "    print(vowel(ch))\n",
    "        \n",
    "if __name__=='__main__':main() "
   ]
  },
  {
   "cell_type": "code",
   "execution_count": null,
   "metadata": {
    "collapsed": true
   },
   "outputs": [],
   "source": []
  }
 ],
 "metadata": {
  "kernelspec": {
   "display_name": "Python 3",
   "language": "python",
   "name": "python3"
  },
  "language_info": {
   "codemirror_mode": {
    "name": "ipython",
    "version": 3
   },
   "file_extension": ".py",
   "mimetype": "text/x-python",
   "name": "python",
   "nbconvert_exporter": "python",
   "pygments_lexer": "ipython3",
   "version": "3.6.3"
  }
 },
 "nbformat": 4,
 "nbformat_minor": 2
}
